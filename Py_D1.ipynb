{
  "nbformat": 4,
  "nbformat_minor": 0,
  "metadata": {
    "colab": {
      "name": "Py_D1.ipynb",
      "provenance": [],
      "collapsed_sections": [],
      "authorship_tag": "ABX9TyN4HPOXK4HFaZ66LYkHm+la",
      "include_colab_link": true
    },
    "kernelspec": {
      "name": "python3",
      "display_name": "Python 3"
    },
    "language_info": {
      "name": "python"
    }
  },
  "cells": [
    {
      "cell_type": "markdown",
      "metadata": {
        "id": "view-in-github",
        "colab_type": "text"
      },
      "source": [
        "<a href=\"https://colab.research.google.com/github/naveenkumark1/Py_/blob/main/Py_D1.ipynb\" target=\"_parent\"><img src=\"https://colab.research.google.com/assets/colab-badge.svg\" alt=\"Open In Colab\"/></a>"
      ]
    },
    {
      "cell_type": "code",
      "metadata": {
        "colab": {
          "base_uri": "https://localhost:8080/"
        },
        "id": "OAa4KIyvTIJ-",
        "outputId": "1adcc3b7-a760-4f89-fcdc-a1e37b91332c"
      },
      "source": [
        "print(\"OM\")"
      ],
      "execution_count": 1,
      "outputs": [
        {
          "output_type": "stream",
          "name": "stdout",
          "text": [
            "OM\n"
          ]
        }
      ]
    },
    {
      "cell_type": "code",
      "metadata": {
        "id": "W1WKIXDZUINs"
      },
      "source": [
        "##https://www.w3resource.com/python-exercises/"
      ],
      "execution_count": null,
      "outputs": []
    },
    {
      "cell_type": "code",
      "metadata": {
        "id": "l4veMv2bUsYH"
      },
      "source": [
        "# 1. Write a Python program to print the following string in a specific format (see the output). Go to the editor\n",
        "# Sample String : \"Twinkle, twinkle, little star, How I wonder what you are! Up above the world so high, Like a diamond in the sky. Twinkle, twinkle, little star, How I wonder what you are\"\n",
        "\n",
        "# Output :\n",
        "\n",
        "# Twinkle, twinkle, little star,\n",
        "# \tHow I wonder what you are! \n",
        "# \t\tUp above the world so high,   \t\t\n",
        "# \t\tLike a diamond in the sky. \n",
        "# Twinkle, twinkle, little star, \n",
        "# \tHow I wonder what you are\n"
      ],
      "execution_count": null,
      "outputs": []
    },
    {
      "cell_type": "code",
      "metadata": {
        "colab": {
          "base_uri": "https://localhost:8080/"
        },
        "id": "mCMgOxYlUtDp",
        "outputId": "02633d9e-1173-4f55-930b-c285b273f988"
      },
      "source": [
        "print(\"Twinkle, twinkle, little star,\\n\\tHow I wonder what you are!\\n\\t\\tUp above the world so high,\\n\\t\\tLike a diamond in the sky.\\nTwinkle, twinkle, little star,\\n\\tHow I wonder what you are\")"
      ],
      "execution_count": 4,
      "outputs": [
        {
          "output_type": "stream",
          "name": "stdout",
          "text": [
            "Twinkle, twinkle, little star,\n",
            "\tHow I wonder what you are!\n",
            "\t\tUp above the world so high,\n",
            "\t\tLike a diamond in the sky.\n",
            "Twinkle, twinkle, little star,\n",
            "\tHow I wonder what you are\n"
          ]
        }
      ]
    },
    {
      "cell_type": "code",
      "metadata": {
        "colab": {
          "base_uri": "https://localhost:8080/"
        },
        "id": "qVhlOIt8UtIA",
        "outputId": "78a399d4-07fb-412e-d63b-a9a388f6d01b"
      },
      "source": [
        "# 2. Write a Python program to get the Python version you are using.\n",
        "!python --version\n",
        "\n",
        "####\n",
        "import sys\n",
        "print(sys.version)\n",
        "\n",
        "###\n",
        "import platform\n",
        "print(platform.python_version())"
      ],
      "execution_count": 13,
      "outputs": [
        {
          "output_type": "stream",
          "name": "stdout",
          "text": [
            "Python 3.7.12\n",
            "3.7.12 (default, Sep 10 2021, 00:21:48) \n",
            "[GCC 7.5.0]\n",
            "3.7.12\n"
          ]
        }
      ]
    },
    {
      "cell_type": "code",
      "metadata": {
        "colab": {
          "base_uri": "https://localhost:8080/"
        },
        "id": "s3YK5bpoUtLe",
        "outputId": "17ba75a9-4d79-456f-87e0-2f7a365182f8"
      },
      "source": [
        "sys.version_info"
      ],
      "execution_count": 14,
      "outputs": [
        {
          "output_type": "execute_result",
          "data": {
            "text/plain": [
              "sys.version_info(major=3, minor=7, micro=12, releaselevel='final', serial=0)"
            ]
          },
          "metadata": {},
          "execution_count": 14
        }
      ]
    },
    {
      "cell_type": "code",
      "metadata": {
        "colab": {
          "base_uri": "https://localhost:8080/"
        },
        "id": "TOnWmabRUtPb",
        "outputId": "0907ffcd-3afa-4410-beb5-c25394b38628"
      },
      "source": [
        "##--##\n",
        "platform.python_version_tuple()"
      ],
      "execution_count": 18,
      "outputs": [
        {
          "output_type": "execute_result",
          "data": {
            "text/plain": [
              "('3', '7', '12')"
            ]
          },
          "metadata": {},
          "execution_count": 18
        }
      ]
    },
    {
      "cell_type": "code",
      "metadata": {
        "id": "PF64vkRDXmVi"
      },
      "source": [
        "# 3. Write a Python program to display the current date and time.\n",
        "# Sample Output :\n",
        "# Current date and time :\n",
        "# 2014-07-05 14:34:14"
      ],
      "execution_count": null,
      "outputs": []
    },
    {
      "cell_type": "code",
      "metadata": {
        "colab": {
          "base_uri": "https://localhost:8080/"
        },
        "id": "KkaqiakTXnFX",
        "outputId": "38ddc268-5fd3-41e6-c292-8e1303e56826"
      },
      "source": [
        "import datetime\n",
        "print(datetime.datetime.now())\n",
        "##--##\n",
        "print(datetime.datetime.now().strftime(\"%Y-%m-%d %H:%M:%S\"))"
      ],
      "execution_count": 49,
      "outputs": [
        {
          "output_type": "stream",
          "name": "stdout",
          "text": [
            "2021-11-05 18:52:51.559084\n",
            "2021-11-05 18:52:51\n"
          ]
        }
      ]
    },
    {
      "cell_type": "code",
      "metadata": {
        "colab": {
          "base_uri": "https://localhost:8080/"
        },
        "id": "85D76_6kXnIu",
        "outputId": "f7cf5347-5efa-4983-bc29-8adf1bcd9466"
      },
      "source": [
        "#4. Write a Python program which accepts the radius of a circle from the user and compute the area. \n",
        "\n",
        "import math\n",
        "radius = int(input(\"Enter the radius of the circle   \"))\n",
        "print(type(radius))\n",
        "print(\"The area of the circle is\",round(math.pi*pow(radius,2),2))\n"
      ],
      "execution_count": 70,
      "outputs": [
        {
          "output_type": "stream",
          "name": "stdout",
          "text": [
            "Enter the radius of the circle   12\n",
            "<class 'int'>\n",
            "The area of the circle is 452.39\n"
          ]
        }
      ]
    },
    {
      "cell_type": "code",
      "metadata": {
        "colab": {
          "base_uri": "https://localhost:8080/"
        },
        "id": "b7LiICPxXnMP",
        "outputId": "a487e074-5666-4db2-b0b2-8188549ab6ee"
      },
      "source": [
        "# 5. Write a Python program which accepts the user's first and last name and print them in reverse order with a space between them.\n",
        "\n",
        "name = input(\"Enter your first and second name  \")\n",
        "print(name[::-1])\n",
        "print(name)\n",
        "print(name.split(\" \")[0][::-1],\" \",name.split(\" \")[1][::-1])\n",
        "##--##\n",
        "print(*name.split(\" \")[::-1])"
      ],
      "execution_count": 87,
      "outputs": [
        {
          "output_type": "stream",
          "name": "stdout",
          "text": [
            "Enter your first and second name  Naveen Kumar\n",
            "ramuK neevaN\n",
            "Naveen Kumar\n",
            "neevaN   ramuK\n",
            "Kumar Naveen\n"
          ]
        }
      ]
    },
    {
      "cell_type": "code",
      "metadata": {
        "id": "dy175HFyXnPj"
      },
      "source": [
        ""
      ],
      "execution_count": null,
      "outputs": []
    },
    {
      "cell_type": "code",
      "metadata": {
        "id": "GKZ6JOXvXnS7"
      },
      "source": [
        ""
      ],
      "execution_count": null,
      "outputs": []
    },
    {
      "cell_type": "code",
      "metadata": {
        "id": "OfmmGPTmXnWT"
      },
      "source": [
        ""
      ],
      "execution_count": null,
      "outputs": []
    },
    {
      "cell_type": "code",
      "metadata": {
        "id": "hfRzHzFOXnZe"
      },
      "source": [
        ""
      ],
      "execution_count": null,
      "outputs": []
    },
    {
      "cell_type": "code",
      "metadata": {
        "id": "nH4ZbNLGXnc3"
      },
      "source": [
        ""
      ],
      "execution_count": null,
      "outputs": []
    },
    {
      "cell_type": "code",
      "metadata": {
        "id": "MLqDoTRSXngu"
      },
      "source": [
        ""
      ],
      "execution_count": null,
      "outputs": []
    }
  ]
}